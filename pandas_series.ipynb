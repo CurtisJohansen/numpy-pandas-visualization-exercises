{
 "cells": [
  {
   "cell_type": "code",
   "execution_count": 1,
   "id": "2ca8ed41",
   "metadata": {},
   "outputs": [],
   "source": [
    "import numpy as np\n",
    "import pandas as pd\n",
    "\n",
    "import matplotlib.pyplot as plt"
   ]
  },
  {
   "cell_type": "code",
   "execution_count": 2,
   "id": "5527ca6a",
   "metadata": {},
   "outputs": [],
   "source": [
    "fruits = [\"kiwi\", \"mango\", \"strawberry\", \"pineapple\", \"gala apple\", \"honeycrisp apple\", \"tomato\", \"watermelon\", \"honeydew\", \"kiwi\", \"kiwi\", \"kiwi\", \"mango\", \"blueberry\", \"blackberry\", \"gooseberry\", \"papaya\"]"
   ]
  },
  {
   "cell_type": "code",
   "execution_count": 3,
   "id": "da4ab78e",
   "metadata": {},
   "outputs": [],
   "source": [
    "fruits = pd.Series(fruits)"
   ]
  },
  {
   "cell_type": "code",
   "execution_count": 4,
   "id": "0fe6b024",
   "metadata": {},
   "outputs": [
    {
     "data": {
      "text/plain": [
       "0                 kiwi\n",
       "1                mango\n",
       "2           strawberry\n",
       "3            pineapple\n",
       "4           gala apple\n",
       "5     honeycrisp apple\n",
       "6               tomato\n",
       "7           watermelon\n",
       "8             honeydew\n",
       "9                 kiwi\n",
       "10                kiwi\n",
       "11                kiwi\n",
       "12               mango\n",
       "13           blueberry\n",
       "14          blackberry\n",
       "15          gooseberry\n",
       "16              papaya\n",
       "dtype: object"
      ]
     },
     "execution_count": 4,
     "metadata": {},
     "output_type": "execute_result"
    }
   ],
   "source": [
    "fruits"
   ]
  },
  {
   "cell_type": "code",
   "execution_count": 5,
   "id": "2ea7bd84",
   "metadata": {},
   "outputs": [],
   "source": [
    "\n",
    "\n",
    "# Exercises Part I\n",
    "\n"
   ]
  },
  {
   "cell_type": "code",
   "execution_count": 6,
   "id": "160d37d4",
   "metadata": {},
   "outputs": [
    {
     "data": {
      "text/plain": [
       "17"
      ]
     },
     "execution_count": 6,
     "metadata": {},
     "output_type": "execute_result"
    }
   ],
   "source": [
    "# 1. Determine the number of elements in fruits.\n",
    "\n",
    "fruits.size"
   ]
  },
  {
   "cell_type": "code",
   "execution_count": 7,
   "id": "7189a306",
   "metadata": {},
   "outputs": [
    {
     "data": {
      "text/plain": [
       "RangeIndex(start=0, stop=17, step=1)"
      ]
     },
     "execution_count": 7,
     "metadata": {},
     "output_type": "execute_result"
    }
   ],
   "source": [
    "# 2. Output only the index from fruits.\n",
    "\n",
    "fruits.index"
   ]
  },
  {
   "cell_type": "code",
   "execution_count": 8,
   "id": "97794644",
   "metadata": {},
   "outputs": [
    {
     "data": {
      "text/plain": [
       "array(['kiwi', 'mango', 'strawberry', 'pineapple', 'gala apple',\n",
       "       'honeycrisp apple', 'tomato', 'watermelon', 'honeydew', 'kiwi',\n",
       "       'kiwi', 'kiwi', 'mango', 'blueberry', 'blackberry', 'gooseberry',\n",
       "       'papaya'], dtype=object)"
      ]
     },
     "execution_count": 8,
     "metadata": {},
     "output_type": "execute_result"
    }
   ],
   "source": [
    "# 3. Output only the values from fruits.\n",
    "\n",
    "fruits.values"
   ]
  },
  {
   "cell_type": "code",
   "execution_count": 9,
   "id": "1f2a7743",
   "metadata": {},
   "outputs": [
    {
     "data": {
      "text/plain": [
       "dtype('O')"
      ]
     },
     "execution_count": 9,
     "metadata": {},
     "output_type": "execute_result"
    }
   ],
   "source": [
    "# 4. Confirm the data type of the values in fruits.\n",
    "\n",
    "fruits.dtype"
   ]
  },
  {
   "cell_type": "code",
   "execution_count": 10,
   "id": "712c0fb6",
   "metadata": {},
   "outputs": [
    {
     "data": {
      "text/plain": [
       "0          kiwi\n",
       "1         mango\n",
       "2    strawberry\n",
       "3     pineapple\n",
       "4    gala apple\n",
       "dtype: object"
      ]
     },
     "execution_count": 10,
     "metadata": {},
     "output_type": "execute_result"
    }
   ],
   "source": [
    "# 5a. Output only the first five values from fruits. \n",
    " \n",
    "fruits.head()"
   ]
  },
  {
   "cell_type": "code",
   "execution_count": 11,
   "id": "3d390547",
   "metadata": {},
   "outputs": [
    {
     "data": {
      "text/plain": [
       "14    blackberry\n",
       "15    gooseberry\n",
       "16        papaya\n",
       "dtype: object"
      ]
     },
     "execution_count": 11,
     "metadata": {},
     "output_type": "execute_result"
    }
   ],
   "source": [
    "# 5b. Output the last three values.\n",
    "\n",
    "fruits.tail(3)"
   ]
  },
  {
   "cell_type": "code",
   "execution_count": 12,
   "id": "5762a79f",
   "metadata": {},
   "outputs": [
    {
     "data": {
      "text/plain": [
       "10          kiwi\n",
       "15    gooseberry\n",
       "dtype: object"
      ]
     },
     "execution_count": 12,
     "metadata": {},
     "output_type": "execute_result"
    }
   ],
   "source": [
    "# 5c. Output two random values from fruits.\n",
    "\n",
    "fruits.sample(2)"
   ]
  },
  {
   "cell_type": "code",
   "execution_count": 13,
   "id": "7cc8f609",
   "metadata": {},
   "outputs": [
    {
     "data": {
      "text/plain": [
       "count       17\n",
       "unique      13\n",
       "top       kiwi\n",
       "freq         4\n",
       "dtype: object"
      ]
     },
     "execution_count": 13,
     "metadata": {},
     "output_type": "execute_result"
    }
   ],
   "source": [
    "# 6. Run the .describe() on fruits to see what information it returns when called on a Series with string values.\n",
    "\n",
    "fruits.describe()"
   ]
  },
  {
   "cell_type": "code",
   "execution_count": 14,
   "id": "56bbb587",
   "metadata": {},
   "outputs": [
    {
     "data": {
      "text/plain": [
       "array(['kiwi', 'mango', 'strawberry', 'pineapple', 'gala apple',\n",
       "       'honeycrisp apple', 'tomato', 'watermelon', 'honeydew',\n",
       "       'blueberry', 'blackberry', 'gooseberry', 'papaya'], dtype=object)"
      ]
     },
     "execution_count": 14,
     "metadata": {},
     "output_type": "execute_result"
    }
   ],
   "source": [
    "# 7. Run the code necessary to produce only the unique string values from fruits.\n",
    "\n",
    "fruits.unique()"
   ]
  },
  {
   "cell_type": "code",
   "execution_count": 15,
   "id": "52df3715",
   "metadata": {},
   "outputs": [
    {
     "data": {
      "text/plain": [
       "kiwi                4\n",
       "mango               2\n",
       "honeycrisp apple    1\n",
       "tomato              1\n",
       "gooseberry          1\n",
       "papaya              1\n",
       "gala apple          1\n",
       "blackberry          1\n",
       "honeydew            1\n",
       "pineapple           1\n",
       "blueberry           1\n",
       "watermelon          1\n",
       "strawberry          1\n",
       "dtype: int64"
      ]
     },
     "execution_count": 15,
     "metadata": {},
     "output_type": "execute_result"
    }
   ],
   "source": [
    "# 8. Determine how many times each unique string value occurs in fruits.\n",
    "\n",
    "fruits.value_counts()"
   ]
  },
  {
   "cell_type": "code",
   "execution_count": 16,
   "id": "b11a2173",
   "metadata": {},
   "outputs": [
    {
     "data": {
      "text/plain": [
       "'kiwi'"
      ]
     },
     "execution_count": 16,
     "metadata": {},
     "output_type": "execute_result"
    }
   ],
   "source": [
    "# 9. Determine the string value that occurs most frequently in fruits.\n",
    "\n",
    "fruits.value_counts().index[0]"
   ]
  },
  {
   "cell_type": "code",
   "execution_count": 17,
   "id": "4c11144f",
   "metadata": {},
   "outputs": [
    {
     "data": {
      "text/plain": [
       "honeycrisp apple    1\n",
       "tomato              1\n",
       "gooseberry          1\n",
       "papaya              1\n",
       "gala apple          1\n",
       "blackberry          1\n",
       "honeydew            1\n",
       "pineapple           1\n",
       "blueberry           1\n",
       "watermelon          1\n",
       "strawberry          1\n",
       "dtype: int64"
      ]
     },
     "execution_count": 17,
     "metadata": {},
     "output_type": "execute_result"
    }
   ],
   "source": [
    "# 10. Determine the string value that occurs least frequently in fruits.\n",
    "\n",
    "fruits.value_counts().tail(11)"
   ]
  },
  {
   "cell_type": "code",
   "execution_count": 18,
   "id": "46261da1",
   "metadata": {},
   "outputs": [
    {
     "data": {
      "text/plain": [
       "honeycrisp apple    1\n",
       "tomato              1\n",
       "gooseberry          1\n",
       "papaya              1\n",
       "gala apple          1\n",
       "blackberry          1\n",
       "honeydew            1\n",
       "pineapple           1\n",
       "blueberry           1\n",
       "watermelon          1\n",
       "strawberry          1\n",
       "dtype: int64"
      ]
     },
     "execution_count": 18,
     "metadata": {},
     "output_type": "execute_result"
    }
   ],
   "source": [
    "# Example from review\n",
    "fruits.value_counts().nsmallest(n=1, keep='all')"
   ]
  },
  {
   "cell_type": "code",
   "execution_count": 19,
   "id": "ff4b1e1f",
   "metadata": {},
   "outputs": [],
   "source": [
    "\n",
    "\n",
    "# Exercises Part II\n",
    "# Explore more attributes and methods while you continue to work with the fruits Series.\n",
    "\n"
   ]
  },
  {
   "cell_type": "code",
   "execution_count": 20,
   "id": "6f365db1",
   "metadata": {},
   "outputs": [
    {
     "data": {
      "text/plain": [
       "0                 Kiwi\n",
       "1                Mango\n",
       "2           Strawberry\n",
       "3            Pineapple\n",
       "4           Gala apple\n",
       "5     Honeycrisp apple\n",
       "6               Tomato\n",
       "7           Watermelon\n",
       "8             Honeydew\n",
       "9                 Kiwi\n",
       "10                Kiwi\n",
       "11                Kiwi\n",
       "12               Mango\n",
       "13           Blueberry\n",
       "14          Blackberry\n",
       "15          Gooseberry\n",
       "16              Papaya\n",
       "dtype: object"
      ]
     },
     "execution_count": 20,
     "metadata": {},
     "output_type": "execute_result"
    }
   ],
   "source": [
    "# 1. Capitalize all the string values in fruits.\n",
    "\n",
    "fruits.str.capitalize()"
   ]
  },
  {
   "cell_type": "code",
   "execution_count": 21,
   "id": "30990fc7",
   "metadata": {},
   "outputs": [
    {
     "data": {
      "text/plain": [
       "14"
      ]
     },
     "execution_count": 21,
     "metadata": {},
     "output_type": "execute_result"
    }
   ],
   "source": [
    "# 2. Count the letter \"a\" in all the string values (use string vectorization).\n",
    "\n",
    "fruits.str.count(\"a\").sum()"
   ]
  },
  {
   "cell_type": "code",
   "execution_count": 22,
   "id": "d8b6a01a",
   "metadata": {},
   "outputs": [
    {
     "data": {
      "text/plain": [
       "0     0\n",
       "1     1\n",
       "2     1\n",
       "3     1\n",
       "4     3\n",
       "5     1\n",
       "6     1\n",
       "7     1\n",
       "8     0\n",
       "9     0\n",
       "10    0\n",
       "11    0\n",
       "12    1\n",
       "13    0\n",
       "14    1\n",
       "15    0\n",
       "16    3\n",
       "dtype: int64"
      ]
     },
     "execution_count": 22,
     "metadata": {},
     "output_type": "execute_result"
    }
   ],
   "source": [
    "# Looking at each count of \"a\"\n",
    "fruits.str.count(\"a\")"
   ]
  },
  {
   "cell_type": "code",
   "execution_count": 23,
   "id": "1872e8d2",
   "metadata": {},
   "outputs": [
    {
     "data": {
      "text/plain": [
       "0     2\n",
       "1     2\n",
       "2     2\n",
       "3     4\n",
       "4     4\n",
       "5     5\n",
       "6     3\n",
       "7     4\n",
       "8     3\n",
       "9     2\n",
       "10    2\n",
       "11    2\n",
       "12    2\n",
       "13    3\n",
       "14    2\n",
       "15    4\n",
       "16    3\n",
       "dtype: int64"
      ]
     },
     "execution_count": 23,
     "metadata": {},
     "output_type": "execute_result"
    }
   ],
   "source": [
    "# 3. Output the number of vowels in each and every string value. *long way\n",
    "\n",
    "(fruits.str.count(\"a\") + fruits.str.count(\"e\") + fruits.str.count(\"i\") + fruits.str.count(\"o\") + fruits.str.count(\"u\"))"
   ]
  },
  {
   "cell_type": "code",
   "execution_count": 24,
   "id": "235ff3fa",
   "metadata": {},
   "outputs": [
    {
     "data": {
      "text/plain": [
       "0     2\n",
       "1     2\n",
       "2     2\n",
       "3     4\n",
       "4     4\n",
       "5     5\n",
       "6     3\n",
       "7     4\n",
       "8     3\n",
       "9     2\n",
       "10    2\n",
       "11    2\n",
       "12    2\n",
       "13    3\n",
       "14    2\n",
       "15    4\n",
       "16    3\n",
       "dtype: int64"
      ]
     },
     "execution_count": 24,
     "metadata": {},
     "output_type": "execute_result"
    }
   ],
   "source": [
    "# 3. *short way\n",
    "vowel_counts = fruits.str.count('[aeiou]')\n",
    "vowel_counts"
   ]
  },
  {
   "cell_type": "code",
   "execution_count": 25,
   "id": "edc20f55",
   "metadata": {},
   "outputs": [
    {
     "data": {
      "text/plain": [
       "0     False\n",
       "1     False\n",
       "2     False\n",
       "3     False\n",
       "4     False\n",
       "5     False\n",
       "6     False\n",
       "7     False\n",
       "8     False\n",
       "9     False\n",
       "10    False\n",
       "11    False\n",
       "12    False\n",
       "13    False\n",
       "14    False\n",
       "15    False\n",
       "16    False\n",
       "dtype: bool"
      ]
     },
     "execution_count": 25,
     "metadata": {},
     "output_type": "execute_result"
    }
   ],
   "source": [
    "(fruits.str.lower().isin(['a', 'e', 'i', 'o', 'u']))"
   ]
  },
  {
   "cell_type": "code",
   "execution_count": 26,
   "id": "03fa318c",
   "metadata": {},
   "outputs": [
    {
     "data": {
      "text/plain": [
       "16"
      ]
     },
     "execution_count": 26,
     "metadata": {},
     "output_type": "execute_result"
    }
   ],
   "source": [
    "# 4. Write the code to get the longest string value from fruits.\n",
    "\n",
    "fruits.str.len().max()"
   ]
  },
  {
   "cell_type": "code",
   "execution_count": 27,
   "id": "e762aac4",
   "metadata": {},
   "outputs": [
    {
     "data": {
      "text/plain": [
       "1                mango\n",
       "2           strawberry\n",
       "3            pineapple\n",
       "4           gala apple\n",
       "5     honeycrisp apple\n",
       "6               tomato\n",
       "7           watermelon\n",
       "8             honeydew\n",
       "12               mango\n",
       "13           blueberry\n",
       "14          blackberry\n",
       "15          gooseberry\n",
       "16              papaya\n",
       "dtype: object"
      ]
     },
     "execution_count": 27,
     "metadata": {},
     "output_type": "execute_result"
    }
   ],
   "source": [
    "# 5. Write the code to get the string values with 5 or more letters in the name.\n",
    "\n",
    "fruits[fruits.str.len() >= 5]"
   ]
  },
  {
   "cell_type": "code",
   "execution_count": 28,
   "id": "827ad266",
   "metadata": {},
   "outputs": [
    {
     "data": {
      "text/plain": [
       "6         tomato\n",
       "15    gooseberry\n",
       "dtype: object"
      ]
     },
     "execution_count": 28,
     "metadata": {},
     "output_type": "execute_result"
    }
   ],
   "source": [
    "# 6. Use the .apply method with a lambda function to find the fruit(s) containing the letter \"o\" two or more times.\n",
    "\n",
    "fruits[fruits.apply(lambda x: x.count(\"o\") >= 2)]"
   ]
  },
  {
   "cell_type": "code",
   "execution_count": 29,
   "id": "e407b865",
   "metadata": {},
   "outputs": [
    {
     "data": {
      "text/plain": [
       "2     strawberry\n",
       "13     blueberry\n",
       "14    blackberry\n",
       "15    gooseberry\n",
       "dtype: object"
      ]
     },
     "execution_count": 29,
     "metadata": {},
     "output_type": "execute_result"
    }
   ],
   "source": [
    "# 7. Write the code to get only the string values containing the substring \"berry\".\n",
    "\n",
    "fruits[fruits.str.contains(\"berry\")]"
   ]
  },
  {
   "cell_type": "code",
   "execution_count": 30,
   "id": "3265c0da",
   "metadata": {},
   "outputs": [
    {
     "data": {
      "text/plain": [
       "3           pineapple\n",
       "4          gala apple\n",
       "5    honeycrisp apple\n",
       "dtype: object"
      ]
     },
     "execution_count": 30,
     "metadata": {},
     "output_type": "execute_result"
    }
   ],
   "source": [
    "# 8. Write the code to get only the string values containing the substring \"apple\".\n",
    "\n",
    "fruits[fruits.str.contains(\"apple\")]"
   ]
  },
  {
   "cell_type": "code",
   "execution_count": 31,
   "id": "7eacba29",
   "metadata": {},
   "outputs": [],
   "source": [
    "# 9. Which string value contains the most vowels?\n",
    "# Part 1 - showing vowel count\n",
    "\n",
    "vowels = fruits.str.count('[aeiou]')"
   ]
  },
  {
   "cell_type": "code",
   "execution_count": 32,
   "id": "969fde42",
   "metadata": {},
   "outputs": [
    {
     "data": {
      "text/plain": [
       "2          strawberry\n",
       "2          strawberry\n",
       "2          strawberry\n",
       "4          gala apple\n",
       "4          gala apple\n",
       "5    honeycrisp apple\n",
       "3           pineapple\n",
       "4          gala apple\n",
       "3           pineapple\n",
       "2          strawberry\n",
       "2          strawberry\n",
       "2          strawberry\n",
       "2          strawberry\n",
       "3           pineapple\n",
       "2          strawberry\n",
       "4          gala apple\n",
       "3           pineapple\n",
       "dtype: object"
      ]
     },
     "execution_count": 32,
     "metadata": {},
     "output_type": "execute_result"
    }
   ],
   "source": [
    "# 9. Part 2 - showing item names of count\n",
    "\n",
    "fruits[fruits.str.count('[aeiou]')]"
   ]
  },
  {
   "cell_type": "code",
   "execution_count": 100,
   "id": "390e0169",
   "metadata": {},
   "outputs": [
    {
     "data": {
      "text/plain": [
       "'honeycrisp apple'"
      ]
     },
     "execution_count": 100,
     "metadata": {},
     "output_type": "execute_result"
    }
   ],
   "source": [
    "# 9. The item with the most vowel count\n",
    "\n",
    "fruits[max(fruits.str.count('[aeiou]'))]"
   ]
  },
  {
   "cell_type": "code",
   "execution_count": 101,
   "id": "941a0a84",
   "metadata": {},
   "outputs": [],
   "source": [
    "\n",
    "\n",
    "# Exercises Part III\n",
    "# Use pandas to create a Series named letters from the following string:\n",
    "\n"
   ]
  },
  {
   "cell_type": "code",
   "execution_count": 35,
   "id": "0dbe0eb2",
   "metadata": {},
   "outputs": [],
   "source": [
    "letters = 'hnvidduckkqxwymbimkccexbkmqygkxoyndmcxnwqarhyffsjpsrabtjzsypmzadfavyrnndndvswreauxovncxtwzpwejilzjrmmbbgbyxvjtewqthafnbkqplarokkyydtubbmnexoypulzwfhqvckdpqtpoppzqrmcvhhpwgjwupgzhiofohawytlsiyecuproguy'"
   ]
  },
  {
   "cell_type": "code",
   "execution_count": 36,
   "id": "cb225dea",
   "metadata": {},
   "outputs": [],
   "source": [
    "letters = pd.Series(list(letters))"
   ]
  },
  {
   "cell_type": "code",
   "execution_count": 37,
   "id": "13451ac7",
   "metadata": {},
   "outputs": [
    {
     "data": {
      "text/plain": [
       "0      h\n",
       "1      n\n",
       "2      v\n",
       "3      i\n",
       "4      d\n",
       "      ..\n",
       "195    r\n",
       "196    o\n",
       "197    g\n",
       "198    u\n",
       "199    y\n",
       "Length: 200, dtype: object"
      ]
     },
     "execution_count": 37,
     "metadata": {},
     "output_type": "execute_result"
    }
   ],
   "source": [
    "letters"
   ]
  },
  {
   "cell_type": "code",
   "execution_count": 38,
   "id": "d1143944",
   "metadata": {},
   "outputs": [
    {
     "data": {
      "text/plain": [
       "y    13\n",
       "p    12\n",
       "w    10\n",
       "m     9\n",
       "b     9\n",
       "dtype: int64"
      ]
     },
     "execution_count": 38,
     "metadata": {},
     "output_type": "execute_result"
    }
   ],
   "source": [
    "#looking at top five values\n",
    "letters.value_counts().head()"
   ]
  },
  {
   "cell_type": "code",
   "execution_count": 39,
   "id": "61b7e47e",
   "metadata": {},
   "outputs": [
    {
     "data": {
      "text/plain": [
       "y    13\n",
       "dtype: int64"
      ]
     },
     "execution_count": 39,
     "metadata": {},
     "output_type": "execute_result"
    }
   ],
   "source": [
    "# 1. Which letter occurs the most frequently in the letters Series?\n",
    "\n",
    "letters.value_counts().head(1)"
   ]
  },
  {
   "cell_type": "code",
   "execution_count": 40,
   "id": "288646d5",
   "metadata": {},
   "outputs": [
    {
     "data": {
      "text/plain": [
       "e    6\n",
       "g    5\n",
       "i    5\n",
       "s    5\n",
       "l    4\n",
       "dtype: int64"
      ]
     },
     "execution_count": 40,
     "metadata": {},
     "output_type": "execute_result"
    }
   ],
   "source": [
    "#looking at bottom five values\n",
    "letters.value_counts().tail()"
   ]
  },
  {
   "cell_type": "code",
   "execution_count": 41,
   "id": "dc5c8529",
   "metadata": {},
   "outputs": [
    {
     "data": {
      "text/plain": [
       "l    4\n",
       "dtype: int64"
      ]
     },
     "execution_count": 41,
     "metadata": {},
     "output_type": "execute_result"
    }
   ],
   "source": [
    "# 2. Which letter occurs the Least frequently?\n",
    "\n",
    "letters.value_counts().tail(1)"
   ]
  },
  {
   "cell_type": "code",
   "execution_count": 42,
   "id": "3fc558f5",
   "metadata": {},
   "outputs": [
    {
     "data": {
      "text/plain": [
       "34"
      ]
     },
     "execution_count": 42,
     "metadata": {},
     "output_type": "execute_result"
    }
   ],
   "source": [
    "# 3. How many vowels are in the Series?\n",
    "\n",
    "letters.str.count('[aeiou]').sum()"
   ]
  },
  {
   "cell_type": "code",
   "execution_count": 43,
   "id": "0a58b9d3",
   "metadata": {},
   "outputs": [
    {
     "data": {
      "text/plain": [
       "166"
      ]
     },
     "execution_count": 43,
     "metadata": {},
     "output_type": "execute_result"
    }
   ],
   "source": [
    "# 4. How many consonants are in the Series?\n",
    "# Took count of a-z, then subtracted vowels count\n",
    "\n",
    "letters.str.count('[a-z]').sum()-letters.str.count('[aeiou]').sum()"
   ]
  },
  {
   "cell_type": "code",
   "execution_count": 44,
   "id": "e9cfbbee",
   "metadata": {},
   "outputs": [
    {
     "data": {
      "text/plain": [
       "166"
      ]
     },
     "execution_count": 44,
     "metadata": {},
     "output_type": "execute_result"
    }
   ],
   "source": [
    "# 4. another way - If the first character of the set is '^', \n",
    "#    all the characters that are not in the set will be matched.\n",
    "letters.str.count('[^aeiou]').sum()"
   ]
  },
  {
   "cell_type": "code",
   "execution_count": 45,
   "id": "e34d198a",
   "metadata": {},
   "outputs": [
    {
     "data": {
      "text/plain": [
       "0      H\n",
       "1      N\n",
       "2      V\n",
       "3      I\n",
       "4      D\n",
       "      ..\n",
       "195    R\n",
       "196    O\n",
       "197    G\n",
       "198    U\n",
       "199    Y\n",
       "Length: 200, dtype: object"
      ]
     },
     "execution_count": 45,
     "metadata": {},
     "output_type": "execute_result"
    }
   ],
   "source": [
    "# 5. Create a Series that has all of the same letters but uppercased.\n",
    "\n",
    "letters.str.upper()"
   ]
  },
  {
   "cell_type": "code",
   "execution_count": 46,
   "id": "67f7550d",
   "metadata": {},
   "outputs": [
    {
     "data": {
      "text/plain": [
       "<AxesSubplot:>"
      ]
     },
     "execution_count": 46,
     "metadata": {},
     "output_type": "execute_result"
    },
    {
     "data": {
      "image/png": "[encoded data removed]",
      "text/plain": [
       "<Figure size 432x288 with 1 Axes>"
      ]
     },
     "metadata": {
      "needs_background": "light"
     },
     "output_type": "display_data"
    }
   ],
   "source": [
    "# 6. Create a bar plot of the frequencies of the 6 most commonly occuring letters.\n",
    "\n",
    "letters.value_counts().head(6).plot.bar()"
   ]
  },
  {
   "cell_type": "code",
   "execution_count": 47,
   "id": "3b0335d6",
   "metadata": {},
   "outputs": [],
   "source": [
    "\n",
    "\n",
    "# Use pandas to create a Series named numbers from the following list:\n",
    "\n"
   ]
  },
  {
   "cell_type": "code",
   "execution_count": 48,
   "id": "3bf68630",
   "metadata": {},
   "outputs": [],
   "source": [
    "numbers = ['$796,459.41', '$278.60', '$482,571.67', '$4,503,915.98', '$2,121,418.3', '$1,260,813.3', '$87,231.01', '$1,509,175.45', '$4,138,548.00', '$2,848,913.80', '$594,715.39', '$4,789,988.17', '$4,513,644.5', '$3,191,059.97', '$1,758,712.24', '$4,338,283.54', '$4,738,303.38', '$2,791,759.67', '$769,681.94', '$452,650.23']"
   ]
  },
  {
   "cell_type": "code",
   "execution_count": 49,
   "id": "aa555330",
   "metadata": {},
   "outputs": [],
   "source": [
    "numbers = pd.Series(numbers)"
   ]
  },
  {
   "cell_type": "code",
   "execution_count": 50,
   "id": "508ef7e0",
   "metadata": {},
   "outputs": [
    {
     "data": {
      "text/plain": [
       "0       $796,459.41\n",
       "1           $278.60\n",
       "2       $482,571.67\n",
       "3     $4,503,915.98\n",
       "4      $2,121,418.3\n",
       "5      $1,260,813.3\n",
       "6        $87,231.01\n",
       "7     $1,509,175.45\n",
       "8     $4,138,548.00\n",
       "9     $2,848,913.80\n",
       "10      $594,715.39\n",
       "11    $4,789,988.17\n",
       "12     $4,513,644.5\n",
       "13    $3,191,059.97\n",
       "14    $1,758,712.24\n",
       "15    $4,338,283.54\n",
       "16    $4,738,303.38\n",
       "17    $2,791,759.67\n",
       "18      $769,681.94\n",
       "19      $452,650.23\n",
       "dtype: object"
      ]
     },
     "execution_count": 50,
     "metadata": {},
     "output_type": "execute_result"
    }
   ],
   "source": [
    "numbers"
   ]
  },
  {
   "cell_type": "code",
   "execution_count": 51,
   "id": "b603c9af",
   "metadata": {},
   "outputs": [
    {
     "data": {
      "text/plain": [
       "dtype('O')"
      ]
     },
     "execution_count": 51,
     "metadata": {},
     "output_type": "execute_result"
    }
   ],
   "source": [
    "# 1. What is the data type of the numbers Series?\n",
    "\n",
    "numbers.dtype"
   ]
  },
  {
   "cell_type": "code",
   "execution_count": 52,
   "id": "daa645e9",
   "metadata": {},
   "outputs": [
    {
     "data": {
      "text/plain": [
       "(20,)"
      ]
     },
     "execution_count": 52,
     "metadata": {},
     "output_type": "execute_result"
    }
   ],
   "source": [
    "# 2. How many elements are in the number Series?\n",
    "\n",
    "numbers.shape"
   ]
  },
  {
   "cell_type": "code",
   "execution_count": 53,
   "id": "75279ba0",
   "metadata": {},
   "outputs": [
    {
     "data": {
      "text/plain": [
       "20"
      ]
     },
     "execution_count": 53,
     "metadata": {},
     "output_type": "execute_result"
    }
   ],
   "source": [
    "#2. can also use\n",
    "\n",
    "numbers.size"
   ]
  },
  {
   "cell_type": "code",
   "execution_count": 103,
   "id": "1bd2f2dd",
   "metadata": {},
   "outputs": [
    {
     "name": "stderr",
     "output_type": "stream",
     "text": [
      "<ipython-input-103-53f9e1cde151>:4: FutureWarning: The default value of regex will change from True to False in a future version. In addition, single character regular expressions will*not* be treated as literal strings when regex=True.\n",
      "  num_series = numbers.str.replace('$', '').str.replace(',', '').astype('float')\n"
     ]
    }
   ],
   "source": [
    "# 3. Perform the necessary manipulations by accessing Series attributes and \n",
    "#    methods to convert the numbers Series to a numeric data type.\n",
    "\n",
    "                                #  error message did not interfere - ran properly\n",
    "\n",
    "num_series = numbers.str.replace('$', '').str.replace(',', '').astype('float') "
   ]
  },
  {
   "cell_type": "code",
   "execution_count": 104,
   "id": "01c2bbb1",
   "metadata": {},
   "outputs": [
    {
     "data": {
      "text/plain": [
       "0      796459.41\n",
       "1         278.60\n",
       "2      482571.67\n",
       "3     4503915.98\n",
       "4     2121418.30\n",
       "5     1260813.30\n",
       "6       87231.01\n",
       "7     1509175.45\n",
       "8     4138548.00\n",
       "9     2848913.80\n",
       "10     594715.39\n",
       "11    4789988.17\n",
       "12    4513644.50\n",
       "13    3191059.97\n",
       "14    1758712.24\n",
       "15    4338283.54\n",
       "16    4738303.38\n",
       "17    2791759.67\n",
       "18     769681.94\n",
       "19     452650.23\n",
       "dtype: float64"
      ]
     },
     "execution_count": 104,
     "metadata": {},
     "output_type": "execute_result"
    }
   ],
   "source": [
    "num_series"
   ]
  },
  {
   "cell_type": "code",
   "execution_count": 105,
   "id": "0fe37632",
   "metadata": {},
   "outputs": [
    {
     "data": {
      "text/plain": [
       "4789988.17"
      ]
     },
     "execution_count": 105,
     "metadata": {},
     "output_type": "execute_result"
    }
   ],
   "source": [
    "# 4. Run the code to discover the maximum value from the Series.\n",
    "\n",
    "num_series.max()"
   ]
  },
  {
   "cell_type": "code",
   "execution_count": 106,
   "id": "b3dc3050",
   "metadata": {},
   "outputs": [
    {
     "data": {
      "text/plain": [
       "278.6"
      ]
     },
     "execution_count": 106,
     "metadata": {},
     "output_type": "execute_result"
    }
   ],
   "source": [
    "# 5. Run the code to discover the minimum value from the Series.\n",
    "\n",
    "num_series.min()"
   ]
  },
  {
   "cell_type": "code",
   "execution_count": 107,
   "id": "37df2708",
   "metadata": {},
   "outputs": [
    {
     "data": {
      "text/plain": [
       "4789709.57"
      ]
     },
     "execution_count": 107,
     "metadata": {},
     "output_type": "execute_result"
    }
   ],
   "source": [
    "# 6. What is the range of the values in the Series?\n",
    "\n",
    "num_series.max() - num_series.min()"
   ]
  },
  {
   "cell_type": "code",
   "execution_count": 108,
   "id": "653a7a9a",
   "metadata": {},
   "outputs": [
    {
     "data": {
      "text/plain": [
       "(-4511.111, 1197705.993]      7\n",
       "(1197705.993, 2395133.385]    4\n",
       "(2395133.385, 3592560.778]    3\n",
       "(3592560.778, 4789988.17]     6\n",
       "dtype: int64"
      ]
     },
     "execution_count": 108,
     "metadata": {},
     "output_type": "execute_result"
    }
   ],
   "source": [
    "# 7. Bin the data into 4 equally sized intervals or bins and output how many values fall into each bin.\n",
    "# num_series.value_counts(bins=4)\n",
    "\n",
    "num_series.value_counts(bins=4).sort_index()\n"
   ]
  },
  {
   "cell_type": "code",
   "execution_count": 98,
   "id": "4827803b",
   "metadata": {},
   "outputs": [
    {
     "data": {
      "text/plain": [
       "Text(0, 0.5, 'Dollar Value')"
      ]
     },
     "execution_count": 98,
     "metadata": {},
     "output_type": "execute_result"
    },
    {
     "data": {
      "image/png": "[encoded data removed]",
      "text/plain": [
       "<Figure size 432x288 with 1 Axes>"
      ]
     },
     "metadata": {
      "needs_background": "light"
     },
     "output_type": "display_data"
    }
   ],
   "source": [
    "# 8. Plot the binned data in a meaningful way. Be sure to include a title and axis labels.\n",
    "\n",
    "num_series.value_counts(bins=4).sort_index().plot.barh()\n",
    "\n",
    "plt.title('Learning Pandas Visualization')\n",
    "plt.xticks(rotation=0)\n",
    "plt.xlabel('Occurrence')\n",
    "plt.ylabel('Dollar Value')\n"
   ]
  },
  {
   "cell_type": "code",
   "execution_count": 61,
   "id": "c7fcb1a9",
   "metadata": {},
   "outputs": [],
   "source": [
    "# Use pandas to create a Series named exam_scores from the following list:"
   ]
  },
  {
   "cell_type": "code",
   "execution_count": 62,
   "id": "12602555",
   "metadata": {},
   "outputs": [],
   "source": [
    "exam_scores = [60, 86, 75, 62, 93, 71, 60, 83, 95, 78, 65, 72, 69, 81, 96, 80, 85, 92, 82, 78]"
   ]
  },
  {
   "cell_type": "code",
   "execution_count": 63,
   "id": "bab4c0d9",
   "metadata": {},
   "outputs": [],
   "source": [
    "exam_scores = pd.Series(exam_scores)"
   ]
  },
  {
   "cell_type": "code",
   "execution_count": 64,
   "id": "a968523a",
   "metadata": {},
   "outputs": [
    {
     "data": {
      "text/plain": [
       "(20,)"
      ]
     },
     "execution_count": 64,
     "metadata": {},
     "output_type": "execute_result"
    }
   ],
   "source": [
    "# 1. How many elements are in the exam_scores Series?\n",
    "\n",
    "exam_scores.shape"
   ]
  },
  {
   "cell_type": "code",
   "execution_count": 118,
   "id": "8b6bae78",
   "metadata": {},
   "outputs": [
    {
     "data": {
      "text/plain": [
       "60"
      ]
     },
     "execution_count": 118,
     "metadata": {},
     "output_type": "execute_result"
    }
   ],
   "source": [
    "# 2. Run the code to discover the minimum, the maximum, the mean, and the median scores for the exam_scores Series.\n",
    "\n",
    "exam_scores.min()"
   ]
  },
  {
   "cell_type": "code",
   "execution_count": 115,
   "id": "836c7504",
   "metadata": {},
   "outputs": [
    {
     "data": {
      "text/plain": [
       "96"
      ]
     },
     "execution_count": 115,
     "metadata": {},
     "output_type": "execute_result"
    }
   ],
   "source": [
    "exam_scores.max()"
   ]
  },
  {
   "cell_type": "code",
   "execution_count": 119,
   "id": "654786b6",
   "metadata": {},
   "outputs": [
    {
     "data": {
      "text/plain": [
       "78.15"
      ]
     },
     "execution_count": 119,
     "metadata": {},
     "output_type": "execute_result"
    }
   ],
   "source": [
    "exam_scores.mean()"
   ]
  },
  {
   "cell_type": "code",
   "execution_count": 120,
   "id": "46cb0d8e",
   "metadata": {},
   "outputs": [
    {
     "data": {
      "text/plain": [
       "79.0"
      ]
     },
     "execution_count": 120,
     "metadata": {},
     "output_type": "execute_result"
    }
   ],
   "source": [
    "exam_scores.median()"
   ]
  },
  {
   "cell_type": "code",
   "execution_count": 122,
   "id": "8f57123b",
   "metadata": {},
   "outputs": [
    {
     "data": {
      "image/png": "[encoded data removed]",
      "text/plain": [
       "<Figure size 432x288 with 1 Axes>"
      ]
     },
     "metadata": {
      "needs_background": "light"
     },
     "output_type": "display_data"
    }
   ],
   "source": [
    "# 3. Plot the Series in a meaningful way and make sure your chart has a title and axis labels.\n",
    "\n",
    "exam_scores.sort_index().plot.hist()\n",
    "\n",
    "plt.title('Grade Scores')\n",
    "plt.xlabel('Scores')\n",
    "plt.show()"
   ]
  },
  {
   "cell_type": "code",
   "execution_count": 124,
   "id": "c86560b6",
   "metadata": {},
   "outputs": [
    {
     "data": {
      "text/plain": [
       "0      64\n",
       "1      90\n",
       "2      79\n",
       "3      66\n",
       "4      97\n",
       "5      75\n",
       "6      64\n",
       "7      87\n",
       "8      99\n",
       "9      82\n",
       "10     69\n",
       "11     76\n",
       "12     73\n",
       "13     85\n",
       "14    100\n",
       "15     84\n",
       "16     89\n",
       "17     96\n",
       "18     86\n",
       "19     82\n",
       "dtype: int64"
      ]
     },
     "execution_count": 124,
     "metadata": {},
     "output_type": "execute_result"
    }
   ],
   "source": [
    "# 4.Write the code necessary to implement a curve for your exam_grades Series and save this as curved_grades.\n",
    "# Add the necessary points to the highest grade to make it 100,\n",
    "# and add the same number of points to every other score in the Series as well.\n",
    "\n",
    "curved_grades = exam_scores.add(4)   # adding 4 exam scores to make it 100\n",
    "curved_grades"
   ]
  },
  {
   "cell_type": "code",
   "execution_count": 125,
   "id": "9b23fc0b",
   "metadata": {},
   "outputs": [
    {
     "data": {
      "text/plain": [
       "0     F\n",
       "1     B\n",
       "2     C\n",
       "3     F\n",
       "4     A\n",
       "5     D\n",
       "6     F\n",
       "7     B\n",
       "8     A\n",
       "9     B\n",
       "10    F\n",
       "11    C\n",
       "12    D\n",
       "13    B\n",
       "14    A\n",
       "15    B\n",
       "16    B\n",
       "17    A\n",
       "18    B\n",
       "19    B\n",
       "dtype: category\n",
       "Categories (5, object): ['F' < 'D' < 'C' < 'B' < 'A']"
      ]
     },
     "execution_count": 125,
     "metadata": {},
     "output_type": "execute_result"
    }
   ],
   "source": [
    "# 5.Use a method to convert each of the numeric values in the curved_grades Series into\n",
    "#   a categorical value of letter grades. For example, 86 should be a 'B' and 95 should be an 'A'. \n",
    "#   Save this as a Series named letter_grades.\n",
    "\n",
    "# make bins\n",
    "grade = [0, 70, 75, 80, 90, 101]\n",
    "\n",
    "# make labels\n",
    "letter_grade = ['F', 'D', 'C', 'B', 'A']\n",
    "\n",
    "letter_grades = pd.cut(curved_grades, bins=grade, labels=letter_grade)\n",
    "\n",
    "letter_grades"
   ]
  },
  {
   "cell_type": "code",
   "execution_count": 126,
   "id": "657d8936",
   "metadata": {},
   "outputs": [
    {
     "data": {
      "image/png": "[encoded data removed]",
      "text/plain": [
       "<Figure size 432x288 with 1 Axes>"
      ]
     },
     "metadata": {
      "needs_background": "light"
     },
     "output_type": "display_data"
    }
   ],
   "source": [
    "# 6.Plot your new categorical letter_grades Series in a meaninful way and include a title and axis labels.\n",
    "\n",
    "letter_grades.value_counts().sort_index().plot.barh()\n",
    "\n",
    "plt.title('Exam Grades')\n",
    "plt.xlabel('Students')\n",
    "plt.ylabel('Letter Grade')\n",
    "\n",
    "plt.show()"
   ]
  },
  {
   "cell_type": "code",
   "execution_count": null,
   "id": "366dd005",
   "metadata": {},
   "outputs": [],
   "source": []
  }
 ],
 "metadata": {
  "kernelspec": {
   "display_name": "Python 3",
   "language": "python",
   "name": "python3"
  },
  "language_info": {
   "codemirror_mode": {
    "name": "ipython",
    "version": 3
   },
   "file_extension": ".py",
   "mimetype": "text/x-python",
   "name": "python",
   "nbconvert_exporter": "python",
   "pygments_lexer": "ipython3",
   "version": "3.8.8"
  }
 },
 "nbformat": 4,
 "nbformat_minor": 5
}
